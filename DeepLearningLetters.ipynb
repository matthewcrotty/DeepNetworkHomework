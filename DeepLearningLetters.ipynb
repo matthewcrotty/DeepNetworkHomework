{
  "nbformat": 4,
  "nbformat_minor": 0,
  "metadata": {
    "colab": {
      "name": "DeepLearningLetters.ipynb",
      "provenance": [],
      "collapsed_sections": []
    },
    "kernelspec": {
      "name": "python3",
      "display_name": "Python 3"
    },
    "language_info": {
      "name": "python"
    }
  },
  "cells": [
    {
      "cell_type": "markdown",
      "metadata": {
        "id": "Dm3zQHr0gZua"
      },
      "source": [
        "## Selecting Dataset\n",
        "\n",
        "I would like to solve an image classification problem with deep learning. Last year I took Machine Learning from Data and we did a lot of classification work on images of handwritten digits. I don't want to use the same dataset, so I want to work on classifiying letters from images, which should be a harder problem, due to letters having more classes and a larger similarity between letters, such as 'b, d, p, q' and 'm, w, u, n' all having similar physical features.\n",
        "\n",
        "I found EMNIST, which is an extension of the popular MNIST data set of handwritten digits, that includes letters in 28x28 image format. Tensorflow has a dataset loader for EMNIST in the tensorflow_datasets python package. The dataset is described here: https://www.nist.gov/itl/products-and-services/emnist-dataset"
      ]
    },
    {
      "cell_type": "markdown",
      "metadata": {
        "id": "iMUvtklnhKlB"
      },
      "source": [
        "## Deep Learning Framework Selection\n",
        "\n",
        "Since I am already using the tensorflow dataset library, it would also make sense to use tensorflow for the deep learning portion of my project. I am also using numpy as it allows for easy and fast calculations in my project."
      ]
    },
    {
      "cell_type": "code",
      "metadata": {
        "id": "aMoyH-IuoVNa"
      },
      "source": [
        "import tensorflow as tf\n",
        "import tensorflow_datasets as tfds\n",
        "import numpy as np"
      ],
      "execution_count": 25,
      "outputs": []
    },
    {
      "cell_type": "markdown",
      "metadata": {
        "id": "RfPuVPceGN9K"
      },
      "source": [
        "Within the tensorflow library, I am using the Keras deep learning api, which is integrated into tensorflow. For most of the refrence for learning the library, I am using the official Tensorflow documentation found here: https://www.tensorflow.org/api_docs/python/tf and here https://www.tensorflow.org/api_docs/python/tf/keras"
      ]
    },
    {
      "cell_type": "markdown",
      "metadata": {
        "id": "ybSTIvR2V8zY"
      },
      "source": [
        "## Exploratory Data Analysis\n",
        "\n",
        "The data consists of 103,600 28x28 pixel grayscale images, with 26 classes of images, representing the letters of the alphabet. The dataset info below lists 37 classes, which represent the 26 training classes and 19 test classes."
      ]
    },
    {
      "cell_type": "code",
      "metadata": {
        "colab": {
          "base_uri": "https://localhost:8080/"
        },
        "id": "dXqTRINApG3q",
        "outputId": "9a20b1c1-513d-42f0-c690-ba34c2741567"
      },
      "source": [
        "# Construct a tf.data.Dataset\n",
        "ds_train, ds_dev = tfds.load('emnist/letters', split=['train[:90%]', 'train[90%:]'], as_supervised=True, shuffle_files=True)\n",
        "ds_test, ds_info = tfds.load('emnist/letters', split='test', as_supervised=True, shuffle_files=True, with_info=True)\n",
        "ds_info"
      ],
      "execution_count": 26,
      "outputs": [
        {
          "output_type": "execute_result",
          "data": {
            "text/plain": [
              "tfds.core.DatasetInfo(\n",
              "    name='emnist',\n",
              "    version=3.0.0,\n",
              "    description='The EMNIST dataset is a set of handwritten character digits derived from the NIST Special Database 19 and converted to a 28x28 pixel image format and dataset structure that directly matches the MNIST dataset.\n",
              "\n",
              "Note: Like the original EMNIST data, images provided here are inverted horizontally and rotated 90 anti-clockwise. You can use `tf.transpose` within `ds.map` to convert the images to a human-friendlier format.',\n",
              "    homepage='https://www.nist.gov/itl/products-and-services/emnist-dataset',\n",
              "    features=FeaturesDict({\n",
              "        'image': Image(shape=(28, 28, 1), dtype=tf.uint8),\n",
              "        'label': ClassLabel(shape=(), dtype=tf.int64, num_classes=37),\n",
              "    }),\n",
              "    total_num_examples=103600,\n",
              "    splits={\n",
              "        'test': 14800,\n",
              "        'train': 88800,\n",
              "    },\n",
              "    supervised_keys=('image', 'label'),\n",
              "    citation=\"\"\"@article{cohen_afshar_tapson_schaik_2017,\n",
              "        title={EMNIST: Extending MNIST to handwritten letters},\n",
              "        DOI={10.1109/ijcnn.2017.7966217},\n",
              "        journal={2017 International Joint Conference on Neural Networks (IJCNN)},\n",
              "        author={Cohen, Gregory and Afshar, Saeed and Tapson, Jonathan and Schaik, Andre Van},\n",
              "        year={2017}\n",
              "    }\"\"\",\n",
              "    redistribution_info=,\n",
              ")"
            ]
          },
          "metadata": {},
          "execution_count": 26
        }
      ]
    },
    {
      "cell_type": "markdown",
      "metadata": {
        "id": "q1ZdfAVuk8vc"
      },
      "source": [
        "Example images from the dataset. Images are rotated horizontally flipped and rotated 90 degrees. I have also verified that both ds_train and ds_dev contain images from all 26 classes."
      ]
    },
    {
      "cell_type": "code",
      "metadata": {
        "colab": {
          "base_uri": "https://localhost:8080/",
          "height": 534
        },
        "id": "SOq7wl4eWPzw",
        "outputId": "a0d8d9f9-a202-4aaf-9705-cc580d05f286"
      },
      "source": [
        "fig = tfds.show_examples(ds_test, ds_info)"
      ],
      "execution_count": 27,
      "outputs": [
        {
          "output_type": "display_data",
          "data": {
            "image/png": "[encoded data removed]",
            "text/plain": [
              "<Figure size 648x648 with 9 Axes>"
            ]
          },
          "metadata": {}
        }
      ]
    },
    {
      "cell_type": "markdown",
      "metadata": {
        "id": "wsioVW_dqjD_"
      },
      "source": [
        "However, I do am not running a convolutional nerual network, and do not want to have 28x28 = 784 input nodes, so I will be feature transforming the images into 1d augmented arrays using custom features.\n",
        "\n",
        "Feature 0:\n",
        "Augmented 1\n",
        "\n",
        "Feature 1: Horizontal Symmetry-\n",
        "Comparisons of [0:n/2] to [n/2:n] slices of the image and then averaged for each row\n",
        "\n",
        "Feature 2: Vertical Symmetry-\n",
        "Same as above but with columns.\n",
        "\n",
        "Feature 3: Inverse Intensity-\n",
        "For all pixels (256-grayscale value), averaged among all pixels."
      ]
    },
    {
      "cell_type": "code",
      "metadata": {
        "id": "H74wRoCbr3u9"
      },
      "source": [
        "def h_sym(image):\n",
        "  sym = 0.0\n",
        "  image = image.T[0]\n",
        "  for i in range(len(image)):\n",
        "    sym += np.average(image[i][0:len(image)//2] - image[i][len(image)//2: len(image)])\n",
        "  return sym/image.shape[0]\n",
        "\n",
        "def v_sym(image):\n",
        "  sym = 0.0\n",
        "  image = image.T[0].T\n",
        "  for i in range(len(image)):\n",
        "    sym += np.average(image[i][0:len(image)//2] - image[i][len(image)//2: len(image)])\n",
        "  return sym/image.shape[0]\n",
        "\n",
        "def intensity(image):\n",
        "  return np.average(image.flatten())\n",
        "\n",
        "def f_transform(image):\n",
        "  image = image.numpy()\n",
        "  return 1.0, h_sym(image), v_sym(image), intensity(image)\n",
        "\n",
        "ds_dev_f = ds_dev.map(lambda data, label: (tf.py_function(f_transform, inp=[data], Tout=[tf.float32, tf.float32, tf.float32, tf.float32]), label))\n",
        "ds_train_f = ds_train.map(lambda data, label: (tf.py_function(f_transform, inp=[data], Tout=[tf.float32, tf.float32, tf.float32, tf.float32]), label))\n",
        "ds_test_f = ds_test.map(lambda data, label: (tf.py_function(f_transform, inp=[data], Tout=[tf.float32, tf.float32, tf.float32, tf.float32]), label))"
      ],
      "execution_count": 28,
      "outputs": []
    },
    {
      "cell_type": "code",
      "metadata": {
        "id": "jHCJleSt_E7B"
      },
      "source": [
        "x_train, y_train = [], []\n",
        "for data, label in ds_train_f:\n",
        "  if label in [1, 12, 13, 26]:\n",
        "    x_train.append(data)\n",
        "    y_train.append(label - 1)\n",
        "x_test, y_test = [], []\n",
        "for data, label in ds_test_f:\n",
        "  if label in [1, 12, 13, 26]:\n",
        "    x_test.append(data)\n",
        "    y_test.append(label - 1)\n",
        "x_train = tf.convert_to_tensor(x_train)\n",
        "y_train = tf.convert_to_tensor(y_train, dtype=tf.uint8)\n",
        "x_test = tf.convert_to_tensor(x_test)\n",
        "y_test = tf.convert_to_tensor(y_test, dtype=tf.uint8)"
      ],
      "execution_count": 29,
      "outputs": []
    },
    {
      "cell_type": "code",
      "metadata": {
        "colab": {
          "base_uri": "https://localhost:8080/"
        },
        "id": "GLyRgE2a0rMX",
        "outputId": "934a1700-a66f-4e64-c1c9-7c6e483f12e4"
      },
      "source": [
        "print(len(x_train))\n",
        "print(x_train[0])\n",
        "print(y_train[0])\n",
        "\n",
        "print(x_train.shape, y_train.shape)"
      ],
      "execution_count": 30,
      "outputs": [
        {
          "output_type": "stream",
          "name": "stdout",
          "text": [
            "12275\n",
            "tf.Tensor([ 1.       38.668365 54.59694  26.397959], shape=(4,), dtype=float32)\n",
            "tf.Tensor(12, shape=(), dtype=uint8)\n",
            "(12275, 4) (12275,)\n"
          ]
        }
      ]
    },
    {
      "cell_type": "markdown",
      "metadata": {
        "id": "FPf-HHpcqK85"
      },
      "source": [
        "## Model Implementation"
      ]
    },
    {
      "cell_type": "code",
      "metadata": {
        "id": "UZ1FkT9i66L0"
      },
      "source": [
        "# Hyper parameters\n",
        "epochs = 10\n",
        "batches = 1000\n",
        "batch_size = int(len(ds_train)/batches)\n",
        "fc1_nodes, fc2_nodes = 49, 49\n",
        "output_classes = 26"
      ],
      "execution_count": 31,
      "outputs": []
    },
    {
      "cell_type": "code",
      "metadata": {
        "colab": {
          "base_uri": "https://localhost:8080/"
        },
        "id": "EosCPcuqlHMN",
        "outputId": "8fa0012b-628a-4c99-f07d-8cb83dd44c94"
      },
      "source": [
        "# Defining forward propogation for the model\n",
        "\n",
        "model = tf.keras.Sequential([\n",
        "                             tf.keras.Input(shape=(4)),\n",
        "                             tf.keras.layers.Dense(fc1_nodes, activation='relu'),\n",
        "                             tf.keras.layers.Dense(fc2_nodes, activation='relu'),\n",
        "                             tf.keras.layers.Dense(output_classes, activation='softmax')\n",
        "])\n",
        "\n",
        "model.summary()"
      ],
      "execution_count": 32,
      "outputs": [
        {
          "output_type": "stream",
          "name": "stdout",
          "text": [
            "Model: \"sequential_2451\"\n",
            "_________________________________________________________________\n",
            "Layer (type)                 Output Shape              Param #   \n",
            "=================================================================\n",
            "dense_7353 (Dense)           (None, 49)                245       \n",
            "_________________________________________________________________\n",
            "dense_7354 (Dense)           (None, 49)                2450      \n",
            "_________________________________________________________________\n",
            "dense_7355 (Dense)           (None, 26)                1300      \n",
            "=================================================================\n",
            "Total params: 3,995\n",
            "Trainable params: 3,995\n",
            "Non-trainable params: 0\n",
            "_________________________________________________________________\n"
          ]
        }
      ]
    },
    {
      "cell_type": "code",
      "metadata": {
        "colab": {
          "base_uri": "https://localhost:8080/"
        },
        "id": "v3Ehb-eBJMin",
        "outputId": "47e4272f-4a90-47aa-81da-6d214cf9dd4d"
      },
      "source": [
        "model.compile(loss=tf.keras.losses.SparseCategoricalCrossentropy(), optimizer=\"adam\", metrics=[\"accuracy\"])\n",
        "\n",
        "model.fit(x_train, y_train, batch_size=batch_size, epochs=100)"
      ],
      "execution_count": 33,
      "outputs": [
        {
          "output_type": "stream",
          "name": "stdout",
          "text": [
            "Epoch 1/100\n",
            "156/156 [==============================] - 0s 1ms/step - loss: 1.4150 - accuracy: 0.5500\n",
            "Epoch 2/100\n",
            "156/156 [==============================] - 0s 1ms/step - loss: 0.8757 - accuracy: 0.6294\n",
            "Epoch 3/100\n",
            "156/156 [==============================] - 0s 1ms/step - loss: 0.8554 - accuracy: 0.6365\n",
            "Epoch 4/100\n",
            "156/156 [==============================] - 0s 1ms/step - loss: 0.8455 - accuracy: 0.6389\n",
            "Epoch 5/100\n",
            "156/156 [==============================] - 0s 1ms/step - loss: 0.8215 - accuracy: 0.6496\n",
            "Epoch 6/100\n",
            "156/156 [==============================] - 0s 1ms/step - loss: 0.8071 - accuracy: 0.6524\n",
            "Epoch 7/100\n",
            "156/156 [==============================] - 0s 1ms/step - loss: 0.8037 - accuracy: 0.6516\n",
            "Epoch 8/100\n",
            "156/156 [==============================] - 0s 1ms/step - loss: 0.7968 - accuracy: 0.6522\n",
            "Epoch 9/100\n",
            "156/156 [==============================] - 0s 1ms/step - loss: 0.7811 - accuracy: 0.6598\n",
            "Epoch 10/100\n",
            "156/156 [==============================] - 0s 1ms/step - loss: 0.7827 - accuracy: 0.6569\n",
            "Epoch 11/100\n",
            "156/156 [==============================] - 0s 1ms/step - loss: 0.7804 - accuracy: 0.6542\n",
            "Epoch 12/100\n",
            "156/156 [==============================] - 0s 1ms/step - loss: 0.7820 - accuracy: 0.6581\n",
            "Epoch 13/100\n",
            "156/156 [==============================] - 0s 1ms/step - loss: 0.7647 - accuracy: 0.6682\n",
            "Epoch 14/100\n",
            "156/156 [==============================] - 0s 1ms/step - loss: 0.7657 - accuracy: 0.6637\n",
            "Epoch 15/100\n",
            "156/156 [==============================] - 0s 1ms/step - loss: 0.7781 - accuracy: 0.6619\n",
            "Epoch 16/100\n",
            "156/156 [==============================] - 0s 1ms/step - loss: 0.7637 - accuracy: 0.6631\n",
            "Epoch 17/100\n",
            "156/156 [==============================] - 0s 1ms/step - loss: 0.7719 - accuracy: 0.6630\n",
            "Epoch 18/100\n",
            "156/156 [==============================] - 0s 1ms/step - loss: 0.7625 - accuracy: 0.6680\n",
            "Epoch 19/100\n",
            "156/156 [==============================] - 0s 1ms/step - loss: 0.7643 - accuracy: 0.6645\n",
            "Epoch 20/100\n",
            "156/156 [==============================] - 0s 1ms/step - loss: 0.7562 - accuracy: 0.6722\n",
            "Epoch 21/100\n",
            "156/156 [==============================] - 0s 1ms/step - loss: 0.7528 - accuracy: 0.6705\n",
            "Epoch 22/100\n",
            "156/156 [==============================] - 0s 1ms/step - loss: 0.7636 - accuracy: 0.6643\n",
            "Epoch 23/100\n",
            "156/156 [==============================] - 0s 1ms/step - loss: 0.7564 - accuracy: 0.6714\n",
            "Epoch 24/100\n",
            "156/156 [==============================] - 0s 1ms/step - loss: 0.7558 - accuracy: 0.6733\n",
            "Epoch 25/100\n",
            "156/156 [==============================] - 0s 1ms/step - loss: 0.7497 - accuracy: 0.6722\n",
            "Epoch 26/100\n",
            "156/156 [==============================] - 0s 1ms/step - loss: 0.7490 - accuracy: 0.6721\n",
            "Epoch 27/100\n",
            "156/156 [==============================] - 0s 1ms/step - loss: 0.7534 - accuracy: 0.6708\n",
            "Epoch 28/100\n",
            "156/156 [==============================] - 0s 1ms/step - loss: 0.7518 - accuracy: 0.6735\n",
            "Epoch 29/100\n",
            "156/156 [==============================] - 0s 1ms/step - loss: 0.7478 - accuracy: 0.6744\n",
            "Epoch 30/100\n",
            "156/156 [==============================] - 0s 1ms/step - loss: 0.7507 - accuracy: 0.6739\n",
            "Epoch 31/100\n",
            "156/156 [==============================] - 0s 1ms/step - loss: 0.7493 - accuracy: 0.6705\n",
            "Epoch 32/100\n",
            "156/156 [==============================] - 0s 1ms/step - loss: 0.7430 - accuracy: 0.6748\n",
            "Epoch 33/100\n",
            "156/156 [==============================] - 0s 1ms/step - loss: 0.7435 - accuracy: 0.6745\n",
            "Epoch 34/100\n",
            "156/156 [==============================] - 0s 1ms/step - loss: 0.7381 - accuracy: 0.6800\n",
            "Epoch 35/100\n",
            "156/156 [==============================] - 0s 1ms/step - loss: 0.7438 - accuracy: 0.6764\n",
            "Epoch 36/100\n",
            "156/156 [==============================] - 0s 1ms/step - loss: 0.7407 - accuracy: 0.6793\n",
            "Epoch 37/100\n",
            "156/156 [==============================] - 0s 1ms/step - loss: 0.7407 - accuracy: 0.6813\n",
            "Epoch 38/100\n",
            "156/156 [==============================] - 0s 1ms/step - loss: 0.7456 - accuracy: 0.6758\n",
            "Epoch 39/100\n",
            "156/156 [==============================] - 0s 1ms/step - loss: 0.7434 - accuracy: 0.6749\n",
            "Epoch 40/100\n",
            "156/156 [==============================] - 0s 1ms/step - loss: 0.7386 - accuracy: 0.6792\n",
            "Epoch 41/100\n",
            "156/156 [==============================] - 0s 1ms/step - loss: 0.7342 - accuracy: 0.6807\n",
            "Epoch 42/100\n",
            "156/156 [==============================] - 0s 1ms/step - loss: 0.7379 - accuracy: 0.6794\n",
            "Epoch 43/100\n",
            "156/156 [==============================] - 0s 1ms/step - loss: 0.7374 - accuracy: 0.6811\n",
            "Epoch 44/100\n",
            "156/156 [==============================] - 0s 1ms/step - loss: 0.7366 - accuracy: 0.6793\n",
            "Epoch 45/100\n",
            "156/156 [==============================] - 0s 1ms/step - loss: 0.7330 - accuracy: 0.6795\n",
            "Epoch 46/100\n",
            "156/156 [==============================] - 0s 1ms/step - loss: 0.7344 - accuracy: 0.6835\n",
            "Epoch 47/100\n",
            "156/156 [==============================] - 0s 1ms/step - loss: 0.7317 - accuracy: 0.6846\n",
            "Epoch 48/100\n",
            "156/156 [==============================] - 0s 1ms/step - loss: 0.7361 - accuracy: 0.6796\n",
            "Epoch 49/100\n",
            "156/156 [==============================] - 0s 1ms/step - loss: 0.7384 - accuracy: 0.6792\n",
            "Epoch 50/100\n",
            "156/156 [==============================] - 0s 1ms/step - loss: 0.7300 - accuracy: 0.6820\n",
            "Epoch 51/100\n",
            "156/156 [==============================] - 0s 1ms/step - loss: 0.7341 - accuracy: 0.6832\n",
            "Epoch 52/100\n",
            "156/156 [==============================] - 0s 1ms/step - loss: 0.7287 - accuracy: 0.6865\n",
            "Epoch 53/100\n",
            "156/156 [==============================] - 0s 1ms/step - loss: 0.7286 - accuracy: 0.6807\n",
            "Epoch 54/100\n",
            "156/156 [==============================] - 0s 1ms/step - loss: 0.7284 - accuracy: 0.6829\n",
            "Epoch 55/100\n",
            "156/156 [==============================] - 0s 1ms/step - loss: 0.7281 - accuracy: 0.6831\n",
            "Epoch 56/100\n",
            "156/156 [==============================] - 0s 1ms/step - loss: 0.7304 - accuracy: 0.6805\n",
            "Epoch 57/100\n",
            "156/156 [==============================] - 0s 1ms/step - loss: 0.7327 - accuracy: 0.6832\n",
            "Epoch 58/100\n",
            "156/156 [==============================] - 0s 1ms/step - loss: 0.7269 - accuracy: 0.6834\n",
            "Epoch 59/100\n",
            "156/156 [==============================] - 0s 1ms/step - loss: 0.7259 - accuracy: 0.6871\n",
            "Epoch 60/100\n",
            "156/156 [==============================] - 0s 1ms/step - loss: 0.7249 - accuracy: 0.6868\n",
            "Epoch 61/100\n",
            "156/156 [==============================] - 0s 1ms/step - loss: 0.7249 - accuracy: 0.6856\n",
            "Epoch 62/100\n",
            "156/156 [==============================] - 0s 1ms/step - loss: 0.7284 - accuracy: 0.6820\n",
            "Epoch 63/100\n",
            "156/156 [==============================] - 0s 1ms/step - loss: 0.7252 - accuracy: 0.6864\n",
            "Epoch 64/100\n",
            "156/156 [==============================] - 0s 1ms/step - loss: 0.7230 - accuracy: 0.6861\n",
            "Epoch 65/100\n",
            "156/156 [==============================] - 0s 1ms/step - loss: 0.7260 - accuracy: 0.6841\n",
            "Epoch 66/100\n",
            "156/156 [==============================] - 0s 1ms/step - loss: 0.7252 - accuracy: 0.6868\n",
            "Epoch 67/100\n",
            "156/156 [==============================] - 0s 1ms/step - loss: 0.7285 - accuracy: 0.6824\n",
            "Epoch 68/100\n",
            "156/156 [==============================] - 0s 1ms/step - loss: 0.7235 - accuracy: 0.6866\n",
            "Epoch 69/100\n",
            "156/156 [==============================] - 0s 1ms/step - loss: 0.7261 - accuracy: 0.6852\n",
            "Epoch 70/100\n",
            "156/156 [==============================] - 0s 1ms/step - loss: 0.7233 - accuracy: 0.6833\n",
            "Epoch 71/100\n",
            "156/156 [==============================] - 0s 1ms/step - loss: 0.7225 - accuracy: 0.6852\n",
            "Epoch 72/100\n",
            "156/156 [==============================] - 0s 1ms/step - loss: 0.7207 - accuracy: 0.6869\n",
            "Epoch 73/100\n",
            "156/156 [==============================] - 0s 1ms/step - loss: 0.7234 - accuracy: 0.6875\n",
            "Epoch 74/100\n",
            "156/156 [==============================] - 0s 1ms/step - loss: 0.7216 - accuracy: 0.6883\n",
            "Epoch 75/100\n",
            "156/156 [==============================] - 0s 1ms/step - loss: 0.7254 - accuracy: 0.6831\n",
            "Epoch 76/100\n",
            "156/156 [==============================] - 0s 1ms/step - loss: 0.7246 - accuracy: 0.6861\n",
            "Epoch 77/100\n",
            "156/156 [==============================] - 0s 1ms/step - loss: 0.7198 - accuracy: 0.6894\n",
            "Epoch 78/100\n",
            "156/156 [==============================] - 0s 1ms/step - loss: 0.7224 - accuracy: 0.6859\n",
            "Epoch 79/100\n",
            "156/156 [==============================] - 0s 1ms/step - loss: 0.7189 - accuracy: 0.6891\n",
            "Epoch 80/100\n",
            "156/156 [==============================] - 0s 1ms/step - loss: 0.7231 - accuracy: 0.6883\n",
            "Epoch 81/100\n",
            "156/156 [==============================] - 0s 1ms/step - loss: 0.7212 - accuracy: 0.6864\n",
            "Epoch 82/100\n",
            "156/156 [==============================] - 0s 1ms/step - loss: 0.7204 - accuracy: 0.6908\n",
            "Epoch 83/100\n",
            "156/156 [==============================] - 0s 1ms/step - loss: 0.7226 - accuracy: 0.6844\n",
            "Epoch 84/100\n",
            "156/156 [==============================] - 0s 1ms/step - loss: 0.7194 - accuracy: 0.6854\n",
            "Epoch 85/100\n",
            "156/156 [==============================] - 0s 1ms/step - loss: 0.7183 - accuracy: 0.6890\n",
            "Epoch 86/100\n",
            "156/156 [==============================] - 0s 1ms/step - loss: 0.7178 - accuracy: 0.6884\n",
            "Epoch 87/100\n",
            "156/156 [==============================] - 0s 1ms/step - loss: 0.7205 - accuracy: 0.6853\n",
            "Epoch 88/100\n",
            "156/156 [==============================] - 0s 1ms/step - loss: 0.7208 - accuracy: 0.6884\n",
            "Epoch 89/100\n",
            "156/156 [==============================] - 0s 1ms/step - loss: 0.7177 - accuracy: 0.6881\n",
            "Epoch 90/100\n",
            "156/156 [==============================] - 0s 1ms/step - loss: 0.7183 - accuracy: 0.6877\n",
            "Epoch 91/100\n",
            "156/156 [==============================] - 0s 1ms/step - loss: 0.7219 - accuracy: 0.6855\n",
            "Epoch 92/100\n",
            "156/156 [==============================] - 0s 1ms/step - loss: 0.7201 - accuracy: 0.6873\n",
            "Epoch 93/100\n",
            "156/156 [==============================] - 0s 1ms/step - loss: 0.7185 - accuracy: 0.6847\n",
            "Epoch 94/100\n",
            "156/156 [==============================] - 0s 1ms/step - loss: 0.7182 - accuracy: 0.6877\n",
            "Epoch 95/100\n",
            "156/156 [==============================] - 0s 1ms/step - loss: 0.7178 - accuracy: 0.6892\n",
            "Epoch 96/100\n",
            "156/156 [==============================] - 0s 1ms/step - loss: 0.7204 - accuracy: 0.6850\n",
            "Epoch 97/100\n",
            "156/156 [==============================] - 0s 1ms/step - loss: 0.7211 - accuracy: 0.6864\n",
            "Epoch 98/100\n",
            "156/156 [==============================] - 0s 1ms/step - loss: 0.7202 - accuracy: 0.6861\n",
            "Epoch 99/100\n",
            "156/156 [==============================] - 0s 1ms/step - loss: 0.7215 - accuracy: 0.6881\n",
            "Epoch 100/100\n",
            "156/156 [==============================] - 0s 1ms/step - loss: 0.7209 - accuracy: 0.6874\n"
          ]
        },
        {
          "output_type": "execute_result",
          "data": {
            "text/plain": [
              "<keras.callbacks.History at 0x7f0689831e50>"
            ]
          },
          "metadata": {},
          "execution_count": 33
        }
      ]
    },
    {
      "cell_type": "code",
      "metadata": {
        "colab": {
          "base_uri": "https://localhost:8080/"
        },
        "id": "xnZNynEGf0RF",
        "outputId": "362f1806-679f-4f5c-899c-b8db58afd0f9"
      },
      "source": [
        "model.evaluate(x_test, y_test, verbose=0)"
      ],
      "execution_count": 34,
      "outputs": [
        {
          "output_type": "execute_result",
          "data": {
            "text/plain": [
              "[0.7579846978187561, 0.6604166626930237]"
            ]
          },
          "metadata": {},
          "execution_count": 34
        }
      ]
    },
    {
      "cell_type": "markdown",
      "metadata": {
        "id": "Gb31PO95Cbmr"
      },
      "source": [
        "## Hyperparameter selection\n",
        "\n",
        "To determine the number of epochs to run the model for, I tested a number of different values from 10 to 1000 to determine around when the model stopped improving the accuracy.\n",
        "\n",
        "To determine the batch size, I kinda just estimated that 1000 batches is enough to be considered mini-batches.\n",
        "\n",
        "To determine the optimal hidden layers, I ran the following code overnight to produce the best layer size.\n",
        "\n",
        "I used the adam optimizer, which is built into the keras package since I found that it approached the best accuracy of the model faster than Stochastic Gradient Descent.\n",
        "\n",
        "I didn't use a regularizer since I was not worried about overfitting in this model, but was more worried about underfitting. If I was using a CNN, I would consider using a regularizer. "
      ]
    },
    {
      "cell_type": "code",
      "metadata": {
        "id": "_Dm5TbD0iJpd"
      },
      "source": [
        "# b_acc, b_f1, b_f2 = 0, 0, 0\n",
        "# for f1 in range(1, 100):\n",
        "#   print(f1)\n",
        "#   for f2 in range(1, 100):\n",
        "#     modelt = tf.keras.Sequential([\n",
        "#                                  tf.keras.Input(shape=(4)),\n",
        "#                                  tf.keras.layers.Dense(f1, activation='relu'),\n",
        "#                                  tf.keras.layers.Dense(f2, activation='relu'),\n",
        "#                                  tf.keras.layers.Dense(output_classes, activation='softmax')\n",
        "#                                  ])\n",
        "#     modelt.compile(loss=tf.keras.losses.SparseCategoricalCrossentropy(), optimizer=\"adam\", metrics=[\"accuracy\"])\n",
        "#     modelt.fit(x_train, y_train, batch_size=batch_size, epochs=10, verbose=0)\n",
        "#     output = modelt.evaluate(x_test, y_test, verbose=0)\n",
        "#     if output[1] > b_acc:\n",
        "#       b_f1, b_f2 = f1, f2\n",
        "# print(b_f1, b_f2)"
      ],
      "execution_count": 35,
      "outputs": []
    }
  ]
}