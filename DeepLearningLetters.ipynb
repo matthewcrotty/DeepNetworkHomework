{
  "nbformat": 4,
  "nbformat_minor": 0,
  "metadata": {
    "colab": {
      "name": "DeepLearningLetters.ipynb",
      "provenance": [],
      "collapsed_sections": []
    },
    "kernelspec": {
      "name": "python3",
      "display_name": "Python 3"
    },
    "language_info": {
      "name": "python"
    }
  },
  "cells": [
    {
      "cell_type": "markdown",
      "metadata": {
        "id": "Dm3zQHr0gZua"
      },
      "source": [
        "## Selecting Dataset\n",
        "\n",
        "I would like to solve an image classification problem with deep learning. Last year I took Machine Learning from Data and we did a lot of classification work on images of handwritten digits. I don't want to use the same dataset, so I want to work on classifiying letters from images, which should be a harder problem, due to letters having more classes and a larger similarity between letters, such as 'b, d, p, q' and 'm, w, u, n' all having similar physical features.\n",
        "\n",
        "I found EMNIST, which is an extension of the popular MNIST data set of handwritten digits, that includes letters in 28x28 image format. Tensorflow has a dataset loader for EMNIST in the tensorflow_datasets python package. The dataset is described here: https://www.nist.gov/itl/products-and-services/emnist-dataset"
      ]
    },
    {
      "cell_type": "markdown",
      "metadata": {
        "id": "iMUvtklnhKlB"
      },
      "source": [
        "## Deep Learning Framework Selection\n",
        "\n",
        "Since I am already using the tensorflow dataset library, it would also make sense to use tensorflow for the deep learning portion of my project. I am also using numpy as it allows for easy and fast calculations in my project"
      ]
    },
    {
      "cell_type": "code",
      "metadata": {
        "id": "aMoyH-IuoVNa"
      },
      "source": [
        "import tensorflow as tf\n",
        "import tensorflow_datasets as tfds\n",
        "import numpy as np"
      ],
      "execution_count": 1,
      "outputs": []
    },
    {
      "cell_type": "markdown",
      "metadata": {
        "id": "ybSTIvR2V8zY"
      },
      "source": [
        "## Exploratory Data Analysis\n",
        "\n",
        "The data consists of 103,600 28x28 pixel grayscale images, with 26 classes of images, representing the letters of the alphabet. The dataset info below lists 37 classes, which represent the 26 training classes and 19 test classes."
      ]
    },
    {
      "cell_type": "code",
      "metadata": {
        "colab": {
          "base_uri": "https://localhost:8080/"
        },
        "id": "dXqTRINApG3q",
        "outputId": "cf12a7bd-8074-4f96-81e7-eb40c5d6ce6a"
      },
      "source": [
        "# Construct a tf.data.Dataset\n",
        "ds_train, ds_dev = tfds.load('emnist/letters', split=['train[:90%]', 'train[90%:]'], as_supervised=True, shuffle_files=True)\n",
        "ds_test, ds_info = tfds.load('emnist/letters', split='test', as_supervised=True, shuffle_files=True, with_info=True)\n",
        "ds_info"
      ],
      "execution_count": 2,
      "outputs": [
        {
          "output_type": "execute_result",
          "data": {
            "text/plain": [
              "tfds.core.DatasetInfo(\n",
              "    name='emnist',\n",
              "    version=3.0.0,\n",
              "    description='The EMNIST dataset is a set of handwritten character digits derived from the NIST Special Database 19 and converted to a 28x28 pixel image format and dataset structure that directly matches the MNIST dataset.\n",
              "\n",
              "Note: Like the original EMNIST data, images provided here are inverted horizontally and rotated 90 anti-clockwise. You can use `tf.transpose` within `ds.map` to convert the images to a human-friendlier format.',\n",
              "    homepage='https://www.nist.gov/itl/products-and-services/emnist-dataset',\n",
              "    features=FeaturesDict({\n",
              "        'image': Image(shape=(28, 28, 1), dtype=tf.uint8),\n",
              "        'label': ClassLabel(shape=(), dtype=tf.int64, num_classes=37),\n",
              "    }),\n",
              "    total_num_examples=103600,\n",
              "    splits={\n",
              "        'test': 14800,\n",
              "        'train': 88800,\n",
              "    },\n",
              "    supervised_keys=('image', 'label'),\n",
              "    citation=\"\"\"@article{cohen_afshar_tapson_schaik_2017,\n",
              "        title={EMNIST: Extending MNIST to handwritten letters},\n",
              "        DOI={10.1109/ijcnn.2017.7966217},\n",
              "        journal={2017 International Joint Conference on Neural Networks (IJCNN)},\n",
              "        author={Cohen, Gregory and Afshar, Saeed and Tapson, Jonathan and Schaik, Andre Van},\n",
              "        year={2017}\n",
              "    }\"\"\",\n",
              "    redistribution_info=,\n",
              ")"
            ]
          },
          "metadata": {},
          "execution_count": 2
        }
      ]
    },
    {
      "cell_type": "markdown",
      "metadata": {
        "id": "q1ZdfAVuk8vc"
      },
      "source": [
        "Example images from the dataset. Images are rotated horizontally flipped and rotated 90 degrees. I have also verified that both ds_train and ds_dev contain images from all 26 classes."
      ]
    },
    {
      "cell_type": "code",
      "metadata": {
        "colab": {
          "base_uri": "https://localhost:8080/",
          "height": 534
        },
        "id": "SOq7wl4eWPzw",
        "outputId": "c04dd2fe-c209-4d10-81f4-c9cfc36949d0"
      },
      "source": [
        "fig = tfds.show_examples(ds_test, ds_info)"
      ],
      "execution_count": 3,
      "outputs": [
        {
          "output_type": "display_data",
          "data": {
            "image/png": "[encoded data removed]",
            "text/plain": [
              "<Figure size 648x648 with 9 Axes>"
            ]
          },
          "metadata": {}
        }
      ]
    },
    {
      "cell_type": "markdown",
      "metadata": {
        "id": "wsioVW_dqjD_"
      },
      "source": [
        "However, I do am not running a convolutional nerual network, and do not want to have 28x28 = 784 input nodes, so I will be feature transforming the images into 1d augmented arrays using custom features.\n",
        "\n",
        "Feature 0:\n",
        "Augmented 1\n",
        "\n",
        "Feature 1: Horizontal Symmetry-\n",
        "Comparisons of [0:n/2] to [n/2:n] slices of the image and then averaged for each row\n",
        "\n",
        "Feature 2: Vertical Symmetry-\n",
        "Same as above but with columns.\n",
        "\n",
        "Feature 3: Inverse Intensity-\n",
        "For all pixels (256-grayscale value), averaged among all pixels."
      ]
    },
    {
      "cell_type": "code",
      "metadata": {
        "id": "H74wRoCbr3u9"
      },
      "source": [
        "from tensorflow.keras.preprocessing.image import img_to_array\n",
        "\n",
        "def h_sym(image):\n",
        "  sym = 0.0\n",
        "  image = image.T[0]\n",
        "  for i in range(len(image)):\n",
        "    sym += np.average(image[i][0:len(image)//2] - image[i][len(image)//2: len(image)])\n",
        "  return sym/image.shape[0]\n",
        "\n",
        "def v_sym(image):\n",
        "  sym = 0.0\n",
        "  image = image.T[0].T\n",
        "  for i in range(len(image)):\n",
        "    sym += np.average(image[i][0:len(image)//2] - image[i][len(image)//2: len(image)])\n",
        "  return sym/image.shape[0]\n",
        "\n",
        "def intensity(image):\n",
        "  return np.average(image.flatten())\n",
        "\n",
        "def f_transform(image):\n",
        "  #print(image)\n",
        "  #image = np.array(img_to_array(image))\n",
        "  image = image.numpy()\n",
        "  return [1.0, h_sym(image), v_sym(image), intensity(image)]\n",
        "\n",
        "\n",
        "ds_dev_f = ds_dev.map(lambda data, label: (tf.py_function(f_transform, inp=[data], Tout=[tf.float32, tf.float32, tf.float32, tf.float32]), label))\n",
        "ds_train_f = ds_train.map(lambda data, label: (tf.py_function(f_transform, inp=[data], Tout=[tf.float32, tf.float32, tf.float32, tf.float32]), label))\n",
        "ds_test_f = ds_test.map(lambda data, label: (tf.py_function(f_transform, inp=[data], Tout=[tf.float32, tf.float32, tf.float32, tf.float32]), label))"
      ],
      "execution_count": 23,
      "outputs": []
    },
    {
      "cell_type": "markdown",
      "metadata": {
        "id": "FPf-HHpcqK85"
      },
      "source": [
        "## Model Implementation"
      ]
    },
    {
      "cell_type": "code",
      "metadata": {
        "id": "UZ1FkT9i66L0"
      },
      "source": [
        "# Hyper parameters\n",
        "epochs = 1000\n",
        "batches = 10\n",
        "batch_size = len(ds_train)/batches\n",
        "fc1_nodes, fc2_nodes = 10, 10\n",
        "output_classes = 26"
      ],
      "execution_count": 24,
      "outputs": []
    },
    {
      "cell_type": "code",
      "metadata": {
        "colab": {
          "base_uri": "https://localhost:8080/",
          "height": 129
        },
        "id": "EosCPcuqlHMN",
        "outputId": "656cd83a-df2c-4cbe-dd89-ee9c8f562226"
      },
      "source": [
        "def fc_layer(nodes, x, name):\n",
        "  W = tf.get_variable('W_' + name, dtype=tf.float32, shape=[x.shape(), nodes], initializer=tf.truncated_normal_initializer(stddev=0.01))\n",
        "  layer = tf.nn.relu(tf.matmul(x, W))\n",
        "  return layer\n",
        "\n",
        "def forward_propagation():\n",
        "  # Two fully connected layers + output layer\n",
        "  "
      ],
      "execution_count": 25,
      "outputs": [
        {
          "output_type": "error",
          "ename": "SyntaxError",
          "evalue": "ignored",
          "traceback": [
            "\u001b[0;36m  File \u001b[0;32m\"<ipython-input-25-0d69969975e1>\"\u001b[0;36m, line \u001b[0;32m7\u001b[0m\n\u001b[0;31m    # Two fully connected layers + output layer\u001b[0m\n\u001b[0m                                               ^\u001b[0m\n\u001b[0;31mSyntaxError\u001b[0m\u001b[0;31m:\u001b[0m unexpected EOF while parsing\n"
          ]
        }
      ]
    }
  ]
}